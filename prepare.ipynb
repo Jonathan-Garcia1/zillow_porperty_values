{
 "cells": [
  {
   "cell_type": "code",
   "execution_count": 1,
   "metadata": {},
   "outputs": [],
   "source": [
    "#imports\n",
    "\n",
    "import pandas as pd\n",
    "import numpy as np\n",
    "import os\n",
    "\n",
    "import datetime\n",
    "\n",
    "from prepare import zillow_pipeline"
   ]
  },
  {
   "cell_type": "code",
   "execution_count": 2,
   "metadata": {},
   "outputs": [],
   "source": [
    "df = zillow_pipeline()"
   ]
  },
  {
   "cell_type": "code",
   "execution_count": 3,
   "metadata": {},
   "outputs": [
    {
     "data": {
      "text/html": [
       "<div>\n",
       "<style scoped>\n",
       "    .dataframe tbody tr th:only-of-type {\n",
       "        vertical-align: middle;\n",
       "    }\n",
       "\n",
       "    .dataframe tbody tr th {\n",
       "        vertical-align: top;\n",
       "    }\n",
       "\n",
       "    .dataframe thead th {\n",
       "        text-align: right;\n",
       "    }\n",
       "</style>\n",
       "<table border=\"1\" class=\"dataframe\">\n",
       "  <thead>\n",
       "    <tr style=\"text-align: right;\">\n",
       "      <th></th>\n",
       "      <th>bedrooms</th>\n",
       "      <th>bathrooms</th>\n",
       "      <th>area</th>\n",
       "      <th>value</th>\n",
       "      <th>year</th>\n",
       "      <th>county</th>\n",
       "      <th>state</th>\n",
       "    </tr>\n",
       "  </thead>\n",
       "  <tbody>\n",
       "    <tr>\n",
       "      <th>0</th>\n",
       "      <td>4</td>\n",
       "      <td>3.5</td>\n",
       "      <td>3100</td>\n",
       "      <td>1023282</td>\n",
       "      <td>1998</td>\n",
       "      <td>Orange</td>\n",
       "      <td>CA</td>\n",
       "    </tr>\n",
       "    <tr>\n",
       "      <th>1</th>\n",
       "      <td>2</td>\n",
       "      <td>1.0</td>\n",
       "      <td>1465</td>\n",
       "      <td>464000</td>\n",
       "      <td>1967</td>\n",
       "      <td>Ventura</td>\n",
       "      <td>CA</td>\n",
       "    </tr>\n",
       "    <tr>\n",
       "      <th>2</th>\n",
       "      <td>3</td>\n",
       "      <td>2.0</td>\n",
       "      <td>1243</td>\n",
       "      <td>564778</td>\n",
       "      <td>1962</td>\n",
       "      <td>Orange</td>\n",
       "      <td>CA</td>\n",
       "    </tr>\n",
       "    <tr>\n",
       "      <th>3</th>\n",
       "      <td>4</td>\n",
       "      <td>3.0</td>\n",
       "      <td>2376</td>\n",
       "      <td>145143</td>\n",
       "      <td>1970</td>\n",
       "      <td>Los Angeles</td>\n",
       "      <td>CA</td>\n",
       "    </tr>\n",
       "    <tr>\n",
       "      <th>4</th>\n",
       "      <td>4</td>\n",
       "      <td>3.0</td>\n",
       "      <td>2962</td>\n",
       "      <td>773303</td>\n",
       "      <td>1950</td>\n",
       "      <td>Los Angeles</td>\n",
       "      <td>CA</td>\n",
       "    </tr>\n",
       "  </tbody>\n",
       "</table>\n",
       "</div>"
      ],
      "text/plain": [
       "   bedrooms  bathrooms  area    value  year       county state\n",
       "0         4        3.5  3100  1023282  1998       Orange    CA\n",
       "1         2        1.0  1465   464000  1967      Ventura    CA\n",
       "2         3        2.0  1243   564778  1962       Orange    CA\n",
       "3         4        3.0  2376   145143  1970  Los Angeles    CA\n",
       "4         4        3.0  2962   773303  1950  Los Angeles    CA"
      ]
     },
     "execution_count": 3,
     "metadata": {},
     "output_type": "execute_result"
    }
   ],
   "source": [
    "df.head()"
   ]
  },
  {
   "cell_type": "code",
   "execution_count": 4,
   "metadata": {},
   "outputs": [],
   "source": [
    "def categorize_col(df, target_column):\n",
    "    # Find percentiles for the target column\n",
    "    percentiles = df[target_column].quantile([0.01, 0.05, 0.10, 0.20, 0.25, 0.75, 0.80, 0.90, 0.95, 0.99])\n",
    "    \n",
    "    # Define the bins and labels\n",
    "    bins = [0] + list(percentiles) + [df[target_column].max()]\n",
    "    labels = ['bottom 1%', 'bottom 5%', 'bottom 10%', 'bottom 20%', 'bottom 25%',\n",
    "              'middle 50%', 'top 25%', 'top 20%', 'top 10%', 'top 5%', 'top 1%']\n",
    "\n",
    "    # Create a new column based on the percentiles\n",
    "    df[f'group_{target_column}'] = pd.cut(df[target_column], bins=bins, labels=labels)\n",
    "    \n",
    "    return df\n",
    "\n",
    "def group_counts(target_column):\n",
    "    # Count the occurrences of each category in the 'size_group' column\n",
    "    group_counts_l = df[f'group_{target_column}'].value_counts().sort_index()\n",
    "\n",
    "    # Print the category names and their corresponding counts\n",
    "    for category, count in group_counts_l.items():\n",
    "        print(f'{category} of {target_column}: {count}')\n",
    "\n",
    "\n",
    "def group_ranges(target_column):\n",
    "    # Group the DataFrame by 'size_group' and calculate the minimum and maximum values for 'area'\n",
    "    group_ranges = df.groupby(f'group_{target_column}')[target_column].agg(['min', 'max'])\n",
    "\n",
    "    # Print the size_group ranges\n",
    "    for group_, (min_, max_) in group_ranges.iterrows():\n",
    "        print(f'{group_} of {target_column}: {min_:,}-{max_:,}')"
   ]
  },
  {
   "cell_type": "code",
   "execution_count": 5,
   "metadata": {},
   "outputs": [],
   "source": [
    "# Assuming df is your original DataFrame\n",
    "df['total_rooms'] = df['bedrooms'] + df['bathrooms']\n",
    "\n",
    "current_year = datetime.datetime.now().year\n",
    "df['age'] = current_year - df['year']\n",
    "\n",
    "#df['price_per_sqft'] = df['tax_value'] / df['area']\n",
    "\n",
    "#df['tax_rate'] = df['taxamount'] / df['tax_value']\n",
    "\n",
    "#df = pd.get_dummies(df, columns=['fips'], prefix='county')\n",
    "\n",
    "df['bdrm_area_ratio'] = df['area'] / df['bedrooms']\n",
    "\n",
    "df['bath_bdrm_ratio'] = df['bathrooms'] / df['bedrooms']"
   ]
  },
  {
   "cell_type": "code",
   "execution_count": 6,
   "metadata": {},
   "outputs": [
    {
     "name": "stdout",
     "output_type": "stream",
     "text": [
      "Min:1, Max:14\n"
     ]
    }
   ],
   "source": [
    "print(f'Min:{df.bedrooms.min()}, Max:{df.bedrooms.max()}')"
   ]
  },
  {
   "cell_type": "code",
   "execution_count": 7,
   "metadata": {},
   "outputs": [
    {
     "name": "stdout",
     "output_type": "stream",
     "text": [
      "Min:1.0, Max:18.0\n"
     ]
    }
   ],
   "source": [
    "print(f'Min:{df.bathrooms.min()}, Max:{df.bathrooms.max()}')"
   ]
  },
  {
   "cell_type": "code",
   "execution_count": 8,
   "metadata": {},
   "outputs": [
    {
     "name": "stdout",
     "output_type": "stream",
     "text": [
      "Min:1878, Max:2016\n"
     ]
    }
   ],
   "source": [
    "print(f'Min:{df.year.min()}, Max:{df.year.max()}')"
   ]
  },
  {
   "cell_type": "code",
   "execution_count": 9,
   "metadata": {},
   "outputs": [
    {
     "name": "stdout",
     "output_type": "stream",
     "text": [
      "Min:7, Max:145\n"
     ]
    }
   ],
   "source": [
    "print(f'Min:{df.age.min()}, Max:{df.age.max()}')"
   ]
  },
  {
   "cell_type": "code",
   "execution_count": 10,
   "metadata": {},
   "outputs": [
    {
     "name": "stdout",
     "output_type": "stream",
     "text": [
      "bottom 1% of value: 1,000-37,435\n",
      "bottom 5% of value: 37,437-61,666\n",
      "bottom 10% of value: 61,667-84,238\n",
      "bottom 20% of value: 84,242-155,114\n",
      "bottom 25% of value: 155,139-193,998\n",
      "middle 50% of value: 194,000-618,794\n",
      "top 25% of value: 618,900-701,300\n",
      "top 20% of value: 701,390-1,010,867\n",
      "top 10% of value: 1,011,276-1,471,865\n",
      "top 5% of value: 1,472,047-3,092,692\n",
      "top 1% of value: 3,092,695-49,061,236\n"
     ]
    }
   ],
   "source": [
    "df = categorize_col(df, 'value')\n",
    "group_ranges('value')"
   ]
  },
  {
   "cell_type": "code",
   "execution_count": 12,
   "metadata": {},
   "outputs": [
    {
     "name": "stdout",
     "output_type": "stream",
     "text": [
      "bottom 1% of value: 524\n",
      "bottom 5% of value: 2089\n",
      "bottom 10% of value: 2612\n",
      "bottom 20% of value: 5225\n",
      "bottom 25% of value: 2613\n",
      "middle 50% of value: 26121\n",
      "top 25% of value: 2613\n",
      "top 20% of value: 5224\n",
      "top 10% of value: 2612\n",
      "top 5% of value: 2090\n",
      "top 1% of value: 523\n"
     ]
    }
   ],
   "source": [
    "group_counts('value')"
   ]
  },
  {
   "cell_type": "code",
   "execution_count": 14,
   "metadata": {},
   "outputs": [
    {
     "name": "stdout",
     "output_type": "stream",
     "text": [
      "bottom 1% of area: 152-699\n",
      "bottom 5% of area: 700-896\n",
      "bottom 10% of area: 897-1,032\n",
      "bottom 20% of area: 1,033-1,200\n",
      "bottom 25% of area: 1,201-1,268\n",
      "middle 50% of area: 1,269-2,305\n",
      "top 25% of area: 2,306-2,510\n",
      "top 20% of area: 2,511-3,122\n",
      "top 10% of area: 3,123-3,730\n",
      "top 5% of area: 3,731-5,497\n",
      "top 1% of area: 5,500-21,929\n"
     ]
    }
   ],
   "source": [
    "df = categorize_col(df, 'area')\n",
    "group_ranges('area')"
   ]
  },
  {
   "cell_type": "code",
   "execution_count": 20,
   "metadata": {},
   "outputs": [
    {
     "name": "stdout",
     "output_type": "stream",
     "text": [
      "bottom 1% of age: 7-12\n",
      "bottom 5% of age: 13-20\n",
      "bottom 10% of age: 21-25\n",
      "bottom 20% of age: 26-37\n",
      "bottom 25% of age: 38-44\n",
      "middle 50% of age: 45-73\n",
      "top 25% of age: 74-75\n",
      "top 20% of age: 76-90\n",
      "top 10% of age: 91-99\n",
      "top 5% of age: 100-113\n",
      "top 1% of age: 114-145\n"
     ]
    }
   ],
   "source": [
    "df = categorize_col(df, 'age')\n",
    "group_ranges('age')"
   ]
  },
  {
   "cell_type": "code",
   "execution_count": 21,
   "metadata": {},
   "outputs": [
    {
     "name": "stdout",
     "output_type": "stream",
     "text": [
      "bottom 1% of bdrm_area_ratio: 30.4-296.0\n",
      "bottom 5% of bdrm_area_ratio: 296.3333333333333-340.0\n",
      "bottom 10% of bdrm_area_ratio: 340.25-368.5\n",
      "bottom 20% of bdrm_area_ratio: 368.6-411.0\n",
      "bottom 25% of bdrm_area_ratio: 411.1666666666667-430.0\n",
      "middle 50% of bdrm_area_ratio: 430.2-668.0\n",
      "top 25% of bdrm_area_ratio: 668.2-709.5\n",
      "top 20% of bdrm_area_ratio: 709.6666666666666-845.5\n",
      "top 10% of bdrm_area_ratio: 845.6666666666666-981.8\n",
      "top 5% of bdrm_area_ratio: 982.0-1,325.0\n",
      "top 1% of bdrm_area_ratio: 1,325.3333333333333-3,236.0\n"
     ]
    }
   ],
   "source": [
    "df = categorize_col(df, 'bdrm_area_ratio')\n",
    "group_ranges('bdrm_area_ratio')"
   ]
  },
  {
   "cell_type": "code",
   "execution_count": 45,
   "metadata": {},
   "outputs": [
    {
     "data": {
      "text/html": [
       "<div>\n",
       "<style scoped>\n",
       "    .dataframe tbody tr th:only-of-type {\n",
       "        vertical-align: middle;\n",
       "    }\n",
       "\n",
       "    .dataframe tbody tr th {\n",
       "        vertical-align: top;\n",
       "    }\n",
       "\n",
       "    .dataframe thead th {\n",
       "        text-align: right;\n",
       "    }\n",
       "</style>\n",
       "<table border=\"1\" class=\"dataframe\">\n",
       "  <thead>\n",
       "    <tr style=\"text-align: right;\">\n",
       "      <th></th>\n",
       "      <th>bedrooms</th>\n",
       "      <th>bathrooms</th>\n",
       "      <th>area</th>\n",
       "      <th>value</th>\n",
       "      <th>year</th>\n",
       "      <th>county</th>\n",
       "      <th>state</th>\n",
       "      <th>total_rooms</th>\n",
       "      <th>age</th>\n",
       "      <th>bdrm_area_ratio</th>\n",
       "      <th>bath_bdrm_ratio</th>\n",
       "      <th>group_value</th>\n",
       "    </tr>\n",
       "  </thead>\n",
       "  <tbody>\n",
       "    <tr>\n",
       "      <th>0</th>\n",
       "      <td>4</td>\n",
       "      <td>3.5</td>\n",
       "      <td>3100</td>\n",
       "      <td>1023282</td>\n",
       "      <td>1998</td>\n",
       "      <td>Orange</td>\n",
       "      <td>CA</td>\n",
       "      <td>7.5</td>\n",
       "      <td>25</td>\n",
       "      <td>775.000000</td>\n",
       "      <td>0.875000</td>\n",
       "      <td>top 10%</td>\n",
       "    </tr>\n",
       "    <tr>\n",
       "      <th>1</th>\n",
       "      <td>2</td>\n",
       "      <td>1.0</td>\n",
       "      <td>1465</td>\n",
       "      <td>464000</td>\n",
       "      <td>1967</td>\n",
       "      <td>Ventura</td>\n",
       "      <td>CA</td>\n",
       "      <td>3.0</td>\n",
       "      <td>56</td>\n",
       "      <td>732.500000</td>\n",
       "      <td>0.500000</td>\n",
       "      <td>middle 50%</td>\n",
       "    </tr>\n",
       "    <tr>\n",
       "      <th>2</th>\n",
       "      <td>3</td>\n",
       "      <td>2.0</td>\n",
       "      <td>1243</td>\n",
       "      <td>564778</td>\n",
       "      <td>1962</td>\n",
       "      <td>Orange</td>\n",
       "      <td>CA</td>\n",
       "      <td>5.0</td>\n",
       "      <td>61</td>\n",
       "      <td>414.333333</td>\n",
       "      <td>0.666667</td>\n",
       "      <td>middle 50%</td>\n",
       "    </tr>\n",
       "    <tr>\n",
       "      <th>3</th>\n",
       "      <td>4</td>\n",
       "      <td>3.0</td>\n",
       "      <td>2376</td>\n",
       "      <td>145143</td>\n",
       "      <td>1970</td>\n",
       "      <td>Los Angeles</td>\n",
       "      <td>CA</td>\n",
       "      <td>7.0</td>\n",
       "      <td>53</td>\n",
       "      <td>594.000000</td>\n",
       "      <td>0.750000</td>\n",
       "      <td>bottom 20%</td>\n",
       "    </tr>\n",
       "    <tr>\n",
       "      <th>4</th>\n",
       "      <td>4</td>\n",
       "      <td>3.0</td>\n",
       "      <td>2962</td>\n",
       "      <td>773303</td>\n",
       "      <td>1950</td>\n",
       "      <td>Los Angeles</td>\n",
       "      <td>CA</td>\n",
       "      <td>7.0</td>\n",
       "      <td>73</td>\n",
       "      <td>740.500000</td>\n",
       "      <td>0.750000</td>\n",
       "      <td>top 20%</td>\n",
       "    </tr>\n",
       "  </tbody>\n",
       "</table>\n",
       "</div>"
      ],
      "text/plain": [
       "   bedrooms  bathrooms  area    value  year       county state  total_rooms  \\\n",
       "0         4        3.5  3100  1023282  1998       Orange    CA          7.5   \n",
       "1         2        1.0  1465   464000  1967      Ventura    CA          3.0   \n",
       "2         3        2.0  1243   564778  1962       Orange    CA          5.0   \n",
       "3         4        3.0  2376   145143  1970  Los Angeles    CA          7.0   \n",
       "4         4        3.0  2962   773303  1950  Los Angeles    CA          7.0   \n",
       "\n",
       "   age  bdrm_area_ratio  bath_bdrm_ratio group_value  \n",
       "0   25       775.000000         0.875000     top 10%  \n",
       "1   56       732.500000         0.500000  middle 50%  \n",
       "2   61       414.333333         0.666667  middle 50%  \n",
       "3   53       594.000000         0.750000  bottom 20%  \n",
       "4   73       740.500000         0.750000     top 20%  "
      ]
     },
     "execution_count": 45,
     "metadata": {},
     "output_type": "execute_result"
    }
   ],
   "source": [
    "df.head()"
   ]
  },
  {
   "cell_type": "code",
   "execution_count": 46,
   "metadata": {},
   "outputs": [
    {
     "data": {
      "text/plain": [
       "(52246, 12)"
      ]
     },
     "execution_count": 46,
     "metadata": {},
     "output_type": "execute_result"
    }
   ],
   "source": [
    "df.shape"
   ]
  },
  {
   "cell_type": "code",
   "execution_count": 35,
   "metadata": {},
   "outputs": [],
   "source": [
    "# Drop rows with 'top 1%' or 'bottom 1%' in 'group_value'\n",
    "df = df[(df['group_value'] != 'top 1%') & (df['group_value'] != 'bottom 1%')]"
   ]
  },
  {
   "cell_type": "code",
   "execution_count": null,
   "metadata": {},
   "outputs": [],
   "source": []
  },
  {
   "cell_type": "code",
   "execution_count": 50,
   "metadata": {},
   "outputs": [
    {
     "data": {
      "text/plain": [
       "(51199, 12)"
      ]
     },
     "execution_count": 50,
     "metadata": {},
     "output_type": "execute_result"
    }
   ],
   "source": [
    "df.shape"
   ]
  },
  {
   "cell_type": "code",
   "execution_count": 37,
   "metadata": {},
   "outputs": [
    {
     "data": {
      "text/plain": [
       "1047"
      ]
     },
     "execution_count": 37,
     "metadata": {},
     "output_type": "execute_result"
    }
   ],
   "source": [
    "52246 - 51199"
   ]
  },
  {
   "cell_type": "code",
   "execution_count": null,
   "metadata": {},
   "outputs": [],
   "source": []
  },
  {
   "cell_type": "code",
   "execution_count": null,
   "metadata": {},
   "outputs": [],
   "source": []
  },
  {
   "cell_type": "code",
   "execution_count": 21,
   "metadata": {},
   "outputs": [
    {
     "data": {
      "text/html": [
       "<div>\n",
       "<style scoped>\n",
       "    .dataframe tbody tr th:only-of-type {\n",
       "        vertical-align: middle;\n",
       "    }\n",
       "\n",
       "    .dataframe tbody tr th {\n",
       "        vertical-align: top;\n",
       "    }\n",
       "\n",
       "    .dataframe thead th {\n",
       "        text-align: right;\n",
       "    }\n",
       "</style>\n",
       "<table border=\"1\" class=\"dataframe\">\n",
       "  <thead>\n",
       "    <tr style=\"text-align: right;\">\n",
       "      <th></th>\n",
       "      <th>bedrooms</th>\n",
       "      <th>bathrooms</th>\n",
       "      <th>area</th>\n",
       "      <th>value</th>\n",
       "      <th>year</th>\n",
       "      <th>county</th>\n",
       "      <th>state</th>\n",
       "      <th>total_rooms</th>\n",
       "      <th>age</th>\n",
       "      <th>sqft_per_bdrm</th>\n",
       "      <th>bath_bdrm_ratio</th>\n",
       "      <th>age_group</th>\n",
       "    </tr>\n",
       "  </thead>\n",
       "  <tbody>\n",
       "    <tr>\n",
       "      <th>0</th>\n",
       "      <td>4</td>\n",
       "      <td>3.5</td>\n",
       "      <td>3100</td>\n",
       "      <td>1023282</td>\n",
       "      <td>1998</td>\n",
       "      <td>Orange</td>\n",
       "      <td>CA</td>\n",
       "      <td>7.5</td>\n",
       "      <td>25</td>\n",
       "      <td>775.000000</td>\n",
       "      <td>0.875000</td>\n",
       "      <td>Mid</td>\n",
       "    </tr>\n",
       "    <tr>\n",
       "      <th>1</th>\n",
       "      <td>2</td>\n",
       "      <td>1.0</td>\n",
       "      <td>1465</td>\n",
       "      <td>464000</td>\n",
       "      <td>1967</td>\n",
       "      <td>Ventura</td>\n",
       "      <td>CA</td>\n",
       "      <td>3.0</td>\n",
       "      <td>56</td>\n",
       "      <td>732.500000</td>\n",
       "      <td>0.500000</td>\n",
       "      <td>Old</td>\n",
       "    </tr>\n",
       "    <tr>\n",
       "      <th>2</th>\n",
       "      <td>3</td>\n",
       "      <td>2.0</td>\n",
       "      <td>1243</td>\n",
       "      <td>564778</td>\n",
       "      <td>1962</td>\n",
       "      <td>Orange</td>\n",
       "      <td>CA</td>\n",
       "      <td>5.0</td>\n",
       "      <td>61</td>\n",
       "      <td>414.333333</td>\n",
       "      <td>0.666667</td>\n",
       "      <td>Very_Old</td>\n",
       "    </tr>\n",
       "    <tr>\n",
       "      <th>3</th>\n",
       "      <td>4</td>\n",
       "      <td>3.0</td>\n",
       "      <td>2376</td>\n",
       "      <td>145143</td>\n",
       "      <td>1970</td>\n",
       "      <td>Los Angeles</td>\n",
       "      <td>CA</td>\n",
       "      <td>7.0</td>\n",
       "      <td>53</td>\n",
       "      <td>594.000000</td>\n",
       "      <td>0.750000</td>\n",
       "      <td>Old</td>\n",
       "    </tr>\n",
       "    <tr>\n",
       "      <th>4</th>\n",
       "      <td>4</td>\n",
       "      <td>3.0</td>\n",
       "      <td>2962</td>\n",
       "      <td>773303</td>\n",
       "      <td>1950</td>\n",
       "      <td>Los Angeles</td>\n",
       "      <td>CA</td>\n",
       "      <td>7.0</td>\n",
       "      <td>73</td>\n",
       "      <td>740.500000</td>\n",
       "      <td>0.750000</td>\n",
       "      <td>Very_Old</td>\n",
       "    </tr>\n",
       "  </tbody>\n",
       "</table>\n",
       "</div>"
      ],
      "text/plain": [
       "   bedrooms  bathrooms  area    value  year       county state  total_rooms  \\\n",
       "0         4        3.5  3100  1023282  1998       Orange    CA          7.5   \n",
       "1         2        1.0  1465   464000  1967      Ventura    CA          3.0   \n",
       "2         3        2.0  1243   564778  1962       Orange    CA          5.0   \n",
       "3         4        3.0  2376   145143  1970  Los Angeles    CA          7.0   \n",
       "4         4        3.0  2962   773303  1950  Los Angeles    CA          7.0   \n",
       "\n",
       "   age  sqft_per_bdrm  bath_bdrm_ratio age_group  \n",
       "0   25     775.000000         0.875000       Mid  \n",
       "1   56     732.500000         0.500000       Old  \n",
       "2   61     414.333333         0.666667  Very_Old  \n",
       "3   53     594.000000         0.750000       Old  \n",
       "4   73     740.500000         0.750000  Very_Old  "
      ]
     },
     "execution_count": 21,
     "metadata": {},
     "output_type": "execute_result"
    }
   ],
   "source": [
    "# Define the age group categories\n",
    "age_bins = [-1, 4, 9, 19, 39, 59, 79, 200]\n",
    "age_labels = ['Newest', 'Very_New', 'New', 'Mid', 'Old', 'Very_Old', 'Oldest']\n",
    "\n",
    "# Create the \"age_group\" column\n",
    "df['age_group'] = pd.cut(df['age'], bins=age_bins, labels=age_labels)\n",
    "\n",
    "df.head()"
   ]
  },
  {
   "cell_type": "code",
   "execution_count": 34,
   "metadata": {},
   "outputs": [
    {
     "name": "stdout",
     "output_type": "stream",
     "text": [
      "Newest: 0\n",
      "Very_New: 248\n",
      "New: 2347\n",
      "Mid: 9006\n",
      "Old: 11713\n",
      "Very_Old: 20622\n",
      "Oldest: 8310\n"
     ]
    }
   ],
   "source": [
    "# Count the occurrences of each category in the 'size_group' column\n",
    "age_group_counts = df['age_group'].value_counts().sort_index()\n",
    "\n",
    "# Print the category names and their corresponding counts\n",
    "for category, count in age_group_counts.items():\n",
    "    print(f'{category}: {count}')"
   ]
  },
  {
   "cell_type": "code",
   "execution_count": 24,
   "metadata": {},
   "outputs": [],
   "source": [
    "# Find percentiles for square footage\n",
    "percentiles = df['area'].quantile([0.01, 0.05, 0.20, 0.80, 0.95, 0.99])\n",
    "\n",
    "# Define the categories\n",
    "df['size_group'] = pd.cut(\n",
    "    df['area'],\n",
    "    bins=[0, percentiles[0.01], percentiles[0.05], percentiles[0.20], percentiles[0.80], percentiles[0.95], percentiles[0.99], df['area'].max()],\n",
    "    labels=['Tiny', 'Small', 'Medium', 'Average', 'Large', 'Very Large', 'Largest']\n",
    ")"
   ]
  },
  {
   "cell_type": "code",
   "execution_count": 25,
   "metadata": {},
   "outputs": [
    {
     "data": {
      "text/html": [
       "<div>\n",
       "<style scoped>\n",
       "    .dataframe tbody tr th:only-of-type {\n",
       "        vertical-align: middle;\n",
       "    }\n",
       "\n",
       "    .dataframe tbody tr th {\n",
       "        vertical-align: top;\n",
       "    }\n",
       "\n",
       "    .dataframe thead th {\n",
       "        text-align: right;\n",
       "    }\n",
       "</style>\n",
       "<table border=\"1\" class=\"dataframe\">\n",
       "  <thead>\n",
       "    <tr style=\"text-align: right;\">\n",
       "      <th></th>\n",
       "      <th>bedrooms</th>\n",
       "      <th>bathrooms</th>\n",
       "      <th>area</th>\n",
       "      <th>value</th>\n",
       "      <th>year</th>\n",
       "      <th>county</th>\n",
       "      <th>state</th>\n",
       "      <th>total_rooms</th>\n",
       "      <th>age</th>\n",
       "      <th>sqft_per_bdrm</th>\n",
       "      <th>bath_bdrm_ratio</th>\n",
       "      <th>age_group</th>\n",
       "      <th>size_group</th>\n",
       "    </tr>\n",
       "  </thead>\n",
       "  <tbody>\n",
       "    <tr>\n",
       "      <th>0</th>\n",
       "      <td>4</td>\n",
       "      <td>3.5</td>\n",
       "      <td>3100</td>\n",
       "      <td>1023282</td>\n",
       "      <td>1998</td>\n",
       "      <td>Orange</td>\n",
       "      <td>CA</td>\n",
       "      <td>7.5</td>\n",
       "      <td>25</td>\n",
       "      <td>775.000000</td>\n",
       "      <td>0.875000</td>\n",
       "      <td>Mid</td>\n",
       "      <td>Large</td>\n",
       "    </tr>\n",
       "    <tr>\n",
       "      <th>1</th>\n",
       "      <td>2</td>\n",
       "      <td>1.0</td>\n",
       "      <td>1465</td>\n",
       "      <td>464000</td>\n",
       "      <td>1967</td>\n",
       "      <td>Ventura</td>\n",
       "      <td>CA</td>\n",
       "      <td>3.0</td>\n",
       "      <td>56</td>\n",
       "      <td>732.500000</td>\n",
       "      <td>0.500000</td>\n",
       "      <td>Old</td>\n",
       "      <td>Average</td>\n",
       "    </tr>\n",
       "    <tr>\n",
       "      <th>2</th>\n",
       "      <td>3</td>\n",
       "      <td>2.0</td>\n",
       "      <td>1243</td>\n",
       "      <td>564778</td>\n",
       "      <td>1962</td>\n",
       "      <td>Orange</td>\n",
       "      <td>CA</td>\n",
       "      <td>5.0</td>\n",
       "      <td>61</td>\n",
       "      <td>414.333333</td>\n",
       "      <td>0.666667</td>\n",
       "      <td>Very_Old</td>\n",
       "      <td>Average</td>\n",
       "    </tr>\n",
       "    <tr>\n",
       "      <th>3</th>\n",
       "      <td>4</td>\n",
       "      <td>3.0</td>\n",
       "      <td>2376</td>\n",
       "      <td>145143</td>\n",
       "      <td>1970</td>\n",
       "      <td>Los Angeles</td>\n",
       "      <td>CA</td>\n",
       "      <td>7.0</td>\n",
       "      <td>53</td>\n",
       "      <td>594.000000</td>\n",
       "      <td>0.750000</td>\n",
       "      <td>Old</td>\n",
       "      <td>Average</td>\n",
       "    </tr>\n",
       "    <tr>\n",
       "      <th>4</th>\n",
       "      <td>4</td>\n",
       "      <td>3.0</td>\n",
       "      <td>2962</td>\n",
       "      <td>773303</td>\n",
       "      <td>1950</td>\n",
       "      <td>Los Angeles</td>\n",
       "      <td>CA</td>\n",
       "      <td>7.0</td>\n",
       "      <td>73</td>\n",
       "      <td>740.500000</td>\n",
       "      <td>0.750000</td>\n",
       "      <td>Very_Old</td>\n",
       "      <td>Large</td>\n",
       "    </tr>\n",
       "  </tbody>\n",
       "</table>\n",
       "</div>"
      ],
      "text/plain": [
       "   bedrooms  bathrooms  area    value  year       county state  total_rooms  \\\n",
       "0         4        3.5  3100  1023282  1998       Orange    CA          7.5   \n",
       "1         2        1.0  1465   464000  1967      Ventura    CA          3.0   \n",
       "2         3        2.0  1243   564778  1962       Orange    CA          5.0   \n",
       "3         4        3.0  2376   145143  1970  Los Angeles    CA          7.0   \n",
       "4         4        3.0  2962   773303  1950  Los Angeles    CA          7.0   \n",
       "\n",
       "   age  sqft_per_bdrm  bath_bdrm_ratio age_group size_group  \n",
       "0   25     775.000000         0.875000       Mid      Large  \n",
       "1   56     732.500000         0.500000       Old    Average  \n",
       "2   61     414.333333         0.666667  Very_Old    Average  \n",
       "3   53     594.000000         0.750000       Old    Average  \n",
       "4   73     740.500000         0.750000  Very_Old      Large  "
      ]
     },
     "execution_count": 25,
     "metadata": {},
     "output_type": "execute_result"
    }
   ],
   "source": [
    "df.head()"
   ]
  },
  {
   "cell_type": "code",
   "execution_count": 26,
   "metadata": {},
   "outputs": [
    {
     "name": "stdout",
     "output_type": "stream",
     "text": [
      "Tiny: 523\n",
      "Small: 2114\n",
      "Medium: 7829\n",
      "Average: 31351\n",
      "Large: 7819\n",
      "Very Large: 2088\n",
      "Largest: 522\n"
     ]
    }
   ],
   "source": [
    "# Count the occurrences of each category in the 'size_group' column\n",
    "size_group_counts = df['size_group'].value_counts().sort_index()\n",
    "\n",
    "# Print the category names and their corresponding counts\n",
    "for category, count in size_group_counts.items():\n",
    "    print(f'{category}: {count}')"
   ]
  },
  {
   "cell_type": "code",
   "execution_count": 27,
   "metadata": {},
   "outputs": [
    {
     "name": "stdout",
     "output_type": "stream",
     "text": [
      "Tiny: 152-699 sqft\n",
      "Small: 700-896 sqft\n",
      "Medium: 897-1200 sqft\n",
      "Average: 1201-2510 sqft\n",
      "Large: 2511-3730 sqft\n",
      "Very Large: 3731-5497 sqft\n",
      "Largest: 5500-21929 sqft\n"
     ]
    }
   ],
   "source": [
    "\n",
    "# Group the DataFrame by 'size_group' and calculate the minimum and maximum values for 'area'\n",
    "size_group_ranges = df.groupby('size_group')['area'].agg(['min', 'max'])\n",
    "\n",
    "# Print the size_group ranges\n",
    "for size_group, (min_area, max_area) in size_group_ranges.iterrows():\n",
    "    print(f'{size_group}: {min_area}-{max_area} sqft')"
   ]
  },
  {
   "cell_type": "code",
   "execution_count": 29,
   "metadata": {},
   "outputs": [],
   "source": [
    "# Calculate the percentiles\n",
    "percentiles = df['area'].quantile([0.01, 0.05, 0.32, 0.68, 0.95, 0.99])\n",
    "\n",
    "# Define the categories\n",
    "df['sqft_category'] = pd.cut(\n",
    "    df['area'],\n",
    "    bins=[0, percentiles[0.01], percentiles[0.05], percentiles[0.32], percentiles[0.68], percentiles[0.95], percentiles[0.99], df['area'].max()],\n",
    "    labels=['smallest', 'very_small', 'small', 'Average', 'large', 'very_large', 'Largest']\n",
    ")\n"
   ]
  },
  {
   "cell_type": "code",
   "execution_count": 30,
   "metadata": {},
   "outputs": [
    {
     "data": {
      "text/html": [
       "<div>\n",
       "<style scoped>\n",
       "    .dataframe tbody tr th:only-of-type {\n",
       "        vertical-align: middle;\n",
       "    }\n",
       "\n",
       "    .dataframe tbody tr th {\n",
       "        vertical-align: top;\n",
       "    }\n",
       "\n",
       "    .dataframe thead th {\n",
       "        text-align: right;\n",
       "    }\n",
       "</style>\n",
       "<table border=\"1\" class=\"dataframe\">\n",
       "  <thead>\n",
       "    <tr style=\"text-align: right;\">\n",
       "      <th></th>\n",
       "      <th>bedrooms</th>\n",
       "      <th>bathrooms</th>\n",
       "      <th>area</th>\n",
       "      <th>value</th>\n",
       "      <th>year</th>\n",
       "      <th>county</th>\n",
       "      <th>state</th>\n",
       "      <th>total_rooms</th>\n",
       "      <th>age</th>\n",
       "      <th>sqft_per_bdrm</th>\n",
       "      <th>bath_bdrm_ratio</th>\n",
       "      <th>age_group</th>\n",
       "      <th>size_group</th>\n",
       "      <th>sqft_category</th>\n",
       "    </tr>\n",
       "  </thead>\n",
       "  <tbody>\n",
       "    <tr>\n",
       "      <th>0</th>\n",
       "      <td>4</td>\n",
       "      <td>3.5</td>\n",
       "      <td>3100</td>\n",
       "      <td>1023282</td>\n",
       "      <td>1998</td>\n",
       "      <td>Orange</td>\n",
       "      <td>CA</td>\n",
       "      <td>7.5</td>\n",
       "      <td>25</td>\n",
       "      <td>775.000000</td>\n",
       "      <td>0.875000</td>\n",
       "      <td>Mid</td>\n",
       "      <td>Large</td>\n",
       "      <td>Large</td>\n",
       "    </tr>\n",
       "    <tr>\n",
       "      <th>1</th>\n",
       "      <td>2</td>\n",
       "      <td>1.0</td>\n",
       "      <td>1465</td>\n",
       "      <td>464000</td>\n",
       "      <td>1967</td>\n",
       "      <td>Ventura</td>\n",
       "      <td>CA</td>\n",
       "      <td>3.0</td>\n",
       "      <td>56</td>\n",
       "      <td>732.500000</td>\n",
       "      <td>0.500000</td>\n",
       "      <td>Old</td>\n",
       "      <td>Average</td>\n",
       "      <td>Average</td>\n",
       "    </tr>\n",
       "    <tr>\n",
       "      <th>2</th>\n",
       "      <td>3</td>\n",
       "      <td>2.0</td>\n",
       "      <td>1243</td>\n",
       "      <td>564778</td>\n",
       "      <td>1962</td>\n",
       "      <td>Orange</td>\n",
       "      <td>CA</td>\n",
       "      <td>5.0</td>\n",
       "      <td>61</td>\n",
       "      <td>414.333333</td>\n",
       "      <td>0.666667</td>\n",
       "      <td>Very_Old</td>\n",
       "      <td>Average</td>\n",
       "      <td>Medium</td>\n",
       "    </tr>\n",
       "    <tr>\n",
       "      <th>3</th>\n",
       "      <td>4</td>\n",
       "      <td>3.0</td>\n",
       "      <td>2376</td>\n",
       "      <td>145143</td>\n",
       "      <td>1970</td>\n",
       "      <td>Los Angeles</td>\n",
       "      <td>CA</td>\n",
       "      <td>7.0</td>\n",
       "      <td>53</td>\n",
       "      <td>594.000000</td>\n",
       "      <td>0.750000</td>\n",
       "      <td>Old</td>\n",
       "      <td>Average</td>\n",
       "      <td>Large</td>\n",
       "    </tr>\n",
       "    <tr>\n",
       "      <th>4</th>\n",
       "      <td>4</td>\n",
       "      <td>3.0</td>\n",
       "      <td>2962</td>\n",
       "      <td>773303</td>\n",
       "      <td>1950</td>\n",
       "      <td>Los Angeles</td>\n",
       "      <td>CA</td>\n",
       "      <td>7.0</td>\n",
       "      <td>73</td>\n",
       "      <td>740.500000</td>\n",
       "      <td>0.750000</td>\n",
       "      <td>Very_Old</td>\n",
       "      <td>Large</td>\n",
       "      <td>Large</td>\n",
       "    </tr>\n",
       "  </tbody>\n",
       "</table>\n",
       "</div>"
      ],
      "text/plain": [
       "   bedrooms  bathrooms  area    value  year       county state  total_rooms  \\\n",
       "0         4        3.5  3100  1023282  1998       Orange    CA          7.5   \n",
       "1         2        1.0  1465   464000  1967      Ventura    CA          3.0   \n",
       "2         3        2.0  1243   564778  1962       Orange    CA          5.0   \n",
       "3         4        3.0  2376   145143  1970  Los Angeles    CA          7.0   \n",
       "4         4        3.0  2962   773303  1950  Los Angeles    CA          7.0   \n",
       "\n",
       "   age  sqft_per_bdrm  bath_bdrm_ratio age_group size_group sqft_category  \n",
       "0   25     775.000000         0.875000       Mid      Large         Large  \n",
       "1   56     732.500000         0.500000       Old    Average       Average  \n",
       "2   61     414.333333         0.666667  Very_Old    Average        Medium  \n",
       "3   53     594.000000         0.750000       Old    Average         Large  \n",
       "4   73     740.500000         0.750000  Very_Old      Large         Large  "
      ]
     },
     "execution_count": 30,
     "metadata": {},
     "output_type": "execute_result"
    }
   ],
   "source": [
    "df.head()"
   ]
  },
  {
   "cell_type": "code",
   "execution_count": 31,
   "metadata": {},
   "outputs": [
    {
     "name": "stdout",
     "output_type": "stream",
     "text": [
      "Tiny: 523\n",
      "Small: 2114\n",
      "Medium: 14097\n",
      "Average: 18797\n",
      "Large: 14105\n",
      "very_large: 2088\n",
      "Largest: 522\n"
     ]
    }
   ],
   "source": [
    "# Count the occurrences of each category in the 'size_group' column\n",
    "size_group_counts = df['sqft_category'].value_counts().sort_index()\n",
    "\n",
    "# Print the category names and their corresponding counts\n",
    "for category, count in size_group_counts.items():\n",
    "    print(f'{category}: {count}')"
   ]
  },
  {
   "cell_type": "code",
   "execution_count": 32,
   "metadata": {},
   "outputs": [
    {
     "name": "stdout",
     "output_type": "stream",
     "text": [
      "Tiny: 152-699 sqft\n",
      "Small: 700-896 sqft\n",
      "Medium: 897-1374 sqft\n",
      "Average: 1375-2072 sqft\n",
      "Large: 2073-3730 sqft\n",
      "very_large: 3731-5497 sqft\n",
      "Largest: 5500-21929 sqft\n"
     ]
    }
   ],
   "source": [
    "\n",
    "# Group the DataFrame by 'size_group' and calculate the minimum and maximum values for 'area'\n",
    "size_group_ranges = df.groupby('sqft_category')['area'].agg(['min', 'max'])\n",
    "\n",
    "# Print the size_group ranges\n",
    "for size_group, (min_area, max_area) in size_group_ranges.iterrows():\n",
    "    print(f'{size_group}: {min_area}-{max_area} sqft')"
   ]
  }
 ],
 "metadata": {
  "kernelspec": {
   "display_name": "base",
   "language": "python",
   "name": "python3"
  },
  "language_info": {
   "codemirror_mode": {
    "name": "ipython",
    "version": 3
   },
   "file_extension": ".py",
   "mimetype": "text/x-python",
   "name": "python",
   "nbconvert_exporter": "python",
   "pygments_lexer": "ipython3",
   "version": "3.10.12"
  },
  "orig_nbformat": 4
 },
 "nbformat": 4,
 "nbformat_minor": 2
}
